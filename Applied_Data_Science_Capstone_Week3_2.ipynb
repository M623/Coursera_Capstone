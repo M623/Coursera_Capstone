{
 "cells": [
  {
   "cell_type": "code",
   "execution_count": 13,
   "metadata": {},
   "outputs": [],
   "source": [
    "import pandas as pd\n",
    "import numpy as np\n",
    "from bs4 import BeautifulSoup\n",
    "import requests\n"
   ]
  },
  {
   "cell_type": "markdown",
   "metadata": {},
   "source": [
    "#### After import necessary package, using BeautifulSoup to obtain the table"
   ]
  },
  {
   "cell_type": "code",
   "execution_count": 14,
   "metadata": {},
   "outputs": [],
   "source": [
    "wiki_url = 'https://en.wikipedia.org/wiki/List_of_postal_codes_of_Canada:_M'\n",
    "wiki_source = requests.get(wiki_url).text\n",
    "soup = BeautifulSoup(wiki_source, 'lxml')\n",
    "table = soup.tbody"
   ]
  },
  {
   "cell_type": "markdown",
   "metadata": {},
   "source": [
    "#### Initialize the DataFrame"
   ]
  },
  {
   "cell_type": "code",
   "execution_count": 15,
   "metadata": {},
   "outputs": [],
   "source": [
    "collist = ['PostalCode', 'Borough', 'Neighbourhood']\n",
    "df_og = pd.DataFrame(columns = collist)"
   ]
  },
  {
   "cell_type": "markdown",
   "metadata": {},
   "source": [
    "#### Some Helper Function"
   ]
  },
  {
   "cell_type": "markdown",
   "metadata": {},
   "source": [
    "##### Only process the cells that have an assigned borough. Ignore cells with a borough that is Not assigned."
   ]
  },
  {
   "cell_type": "code",
   "execution_count": 16,
   "metadata": {},
   "outputs": [],
   "source": [
    "def na_borough(row):\n",
    "    return row[1] == 'Not assigned'"
   ]
  },
  {
   "cell_type": "markdown",
   "metadata": {},
   "source": [
    "##### More than one neighborhood can exist in one postal code area. These two rows will be combined into one row with the neighborhoods separated with a comma"
   ]
  },
  {
   "cell_type": "code",
   "execution_count": 17,
   "metadata": {},
   "outputs": [],
   "source": [
    "def combine_rows(row, df):\n",
    "    if row[0] not in df['PostalCode'].values:\n",
    "        return df.append(pd.Series(row, index = df.columns), ignore_index = True)\n",
    "    target = df[df['PostalCode'] == row[0]].index[0]\n",
    "    df.loc[target, 'Neighbourhood'] = (df[df['PostalCode'] == row[0]]['Neighbourhood'].values + ', ' + row[2])[0] \n",
    "    return df"
   ]
  },
  {
   "cell_type": "markdown",
   "metadata": {},
   "source": [
    "##### If a cell has a borough but a Not assigned neighborhood, then the neighborhood will be the same as the borough."
   ]
  },
  {
   "cell_type": "code",
   "execution_count": 18,
   "metadata": {},
   "outputs": [],
   "source": [
    "def na_neighbourhood(row):\n",
    "    if row[2] == 'Not assigned':\n",
    "        row[2] = row[1]\n",
    "    return row"
   ]
  },
  {
   "cell_type": "markdown",
   "metadata": {},
   "source": [
    "#### Go through the Data and form the DataFrame"
   ]
  },
  {
   "cell_type": "code",
   "execution_count": 19,
   "metadata": {},
   "outputs": [],
   "source": [
    "for line in table.find_all('tr'):\n",
    "    tmp = []\n",
    "    for item in line.find_all('td'):\n",
    "        tmp.append(item.text.strip())\n",
    "    if len(tmp) != 3:\n",
    "        continue\n",
    "    if na_borough(tmp):\n",
    "        continue\n",
    "    tmp = na_neighbourhood(tmp)\n",
    "    df_og = combine_rows(tmp, df_og)"
   ]
  },
  {
   "cell_type": "markdown",
   "metadata": {},
   "source": [
    "#### Read in geographical coordinates file"
   ]
  },
  {
   "cell_type": "code",
   "execution_count": 20,
   "metadata": {},
   "outputs": [
    {
     "name": "stdout",
     "output_type": "stream",
     "text": [
      "  PostalCode   Latitude  Longitude\n",
      "0        M1B  43.806686 -79.194353\n",
      "1        M1C  43.784535 -79.160497\n",
      "2        M1E  43.763573 -79.188711\n",
      "3        M1G  43.770992 -79.216917\n",
      "4        M1H  43.773136 -79.239476\n"
     ]
    }
   ],
   "source": [
    "geo_url = 'http://cocl.us/Geospatial_data'\n",
    "df_geo = pd.read_csv(geo_url)\n",
    "df_geo.columns = ['PostalCode', 'Latitude', 'Longitude']\n",
    "print (df_geo.head())"
   ]
  },
  {
   "cell_type": "code",
   "execution_count": 12,
   "metadata": {},
   "outputs": [
    {
     "name": "stdout",
     "output_type": "stream",
     "text": [
      "    PostalCode           Borough  \\\n",
      "98         M8X         Etobicoke   \n",
      "99         M4Y  Downtown Toronto   \n",
      "100        M7Y      East Toronto   \n",
      "101        M8Y         Etobicoke   \n",
      "102        M8Z         Etobicoke   \n",
      "\n",
      "                                         Neighbourhood   Latitude  Longitude  \n",
      "98       The Kingsway, Montgomery Road, Old Mill North  43.653654 -79.506944  \n",
      "99                                Church and Wellesley  43.665860 -79.383160  \n",
      "100  Business Reply Mail Processing Centre 969 Eastern  43.662744 -79.321558  \n",
      "101  Humber Bay, King's Mill Park, Kingsway Park So...  43.636258 -79.498509  \n",
      "102  Kingsway Park South West, Mimico NW, The Queen...  43.628841 -79.520999  \n"
     ]
    }
   ],
   "source": [
    "df_merged = df_og.join(df_geo.set_index('PostalCode'), on='PostalCode')\n",
    "print (df_merged.head())"
   ]
  },
  {
   "cell_type": "markdown",
   "metadata": {},
   "source": [
    "#### Merge two DataFrame"
   ]
  },
  {
   "cell_type": "code",
   "execution_count": null,
   "metadata": {},
   "outputs": [],
   "source": []
  }
 ],
 "metadata": {
  "kernelspec": {
   "display_name": "Python 3",
   "language": "python",
   "name": "python3"
  },
  "language_info": {
   "codemirror_mode": {
    "name": "ipython",
    "version": 3
   },
   "file_extension": ".py",
   "mimetype": "text/x-python",
   "name": "python",
   "nbconvert_exporter": "python",
   "pygments_lexer": "ipython3",
   "version": "3.6.8"
  }
 },
 "nbformat": 4,
 "nbformat_minor": 2
}
